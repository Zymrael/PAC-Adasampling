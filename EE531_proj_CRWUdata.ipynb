{
 "cells": [
  {
   "cell_type": "code",
   "execution_count": 46,
   "metadata": {},
   "outputs": [],
   "source": [
    "%matplotlib inline\n",
    "%reload_ext autoreload\n",
    "%autoreload 2\n",
    "\n",
    "import scipy.io as sio\n",
    "import os\n",
    "import numpy as np\n",
    "import pandas as pd\n",
    "import matplotlib as plt\n",
    "import fastai\n",
    "from fastai.conv_learner import *\n",
    "from fastai.column_data import *\n",
    "from torch.utils.data import *\n",
    "import visdom as vis\n",
    "import scipy.stats\n",
    "import pickle"
   ]
  },
  {
   "cell_type": "code",
   "execution_count": 2,
   "metadata": {},
   "outputs": [],
   "source": [
    "device = torch.device(\"cuda:0\" if torch.cuda.is_available() else \"cpu\")"
   ]
  },
  {
   "cell_type": "code",
   "execution_count": 3,
   "metadata": {},
   "outputs": [
    {
     "data": {
      "text/plain": [
       "'GeForce GTX 1060 3GB'"
      ]
     },
     "execution_count": 3,
     "metadata": {},
     "output_type": "execute_result"
    }
   ],
   "source": [
    "torch.cuda.get_device_name(0)"
   ]
  },
  {
   "cell_type": "markdown",
   "metadata": {},
   "source": [
    "### Utils"
   ]
  },
  {
   "cell_type": "code",
   "execution_count": 4,
   "metadata": {},
   "outputs": [],
   "source": [
    "def pred_accuracy(m, x_val, y_val, ndata):\n",
    "    x_val, indx = torch.max(m(x_val).cuda(),1)\n",
    "    return (ndata - torch.nonzero((indx - y_val)).size(0))/ndata"
   ]
  },
  {
   "cell_type": "markdown",
   "metadata": {},
   "source": [
    "## Data preprocessing and loading"
   ]
  },
  {
   "cell_type": "code",
   "execution_count": 5,
   "metadata": {},
   "outputs": [
    {
     "name": "stdout",
     "output_type": "stream",
     "text": [
      "{'__header__': b'MATLAB 5.0 MAT-file, Platform: PCWIN, Created on: Mon Jan 31 15:28:20 2000', '__version__': '1.0', '__globals__': [], 'X097_DE_time': array([[ 0.0532 ],\n",
      "       [ 0.08866],\n",
      "       [ 0.09972],\n",
      "       ...,\n",
      "       [-0.03463],\n",
      "       [ 0.01669],\n",
      "       [ 0.04694]]), 'X097_FE_time': array([[0.14567],\n",
      "       [0.0978 ],\n",
      "       [0.05486],\n",
      "       ...,\n",
      "       [0.14053],\n",
      "       [0.09554],\n",
      "       [0.09019]]), 'X097RPM': array([[1796]], dtype=uint16)}\n"
     ]
    }
   ],
   "source": [
    "PATH = 'L:/vibnet-hankooktire/CWRUdata/baseline/'\n",
    "\n",
    "baselinedata = sio.loadmat(f'{PATH}'+'97', mdict=None, appendmat=True)\n",
    "\n",
    "print(baselinedata)\n",
    "\n",
    "def readFromFolder(PATH):\n",
    "    \n",
    "    list_of_data = []\n",
    "    for file in os.listdir(PATH):\n",
    "        x = sio.loadmat(f'{PATH}'+ file, appendmat=True)\n",
    "        list_of_data.append(x)\n",
    "    return list_of_data\n",
    "\n",
    "## reading from folders\n",
    "PATH = 'L:/vibnet-hankooktire/CWRUdata/baseline/'\n",
    "baselined = readFromFolder(PATH)\n",
    "PATH = 'L:/vibnet-hankooktire/CWRUdata/ball/' \n",
    "balld = readFromFolder(PATH)\n",
    "PATH = 'L:/vibnet-hankooktire/CWRUdata/inner_race/'\n",
    "iraced = readFromFolder(PATH)\n",
    "PATH = 'L:/vibnet-hankooktire/CWRUdata/outer_race/'\n",
    "oraced = readFromFolder(PATH)\n",
    "\n",
    "\n",
    "baseDE = np.array(baselined[0]['X100_DE_time'])\n",
    "baseDE = np.append(baseDE, baselined[1]['X097_DE_time'])\n",
    "baseDE = np.append(baseDE, baselined[2]['X098_DE_time'])\n",
    "baseDE = np.append(baseDE, baselined[3]['X099_DE_time'])\n",
    "\n",
    "ballDE = np.array(balld[0]['X118_DE_time'])\n",
    "ballDE = np.append(ballDE, balld[1]['X119_DE_time'])\n",
    "ballDE = np.append(ballDE, balld[2]['X120_DE_time'])\n",
    "ballDE = np.append(ballDE, balld[3]['X121_DE_time'])\n",
    "ballDE = np.append(ballDE, balld[4]['X185_DE_time'])\n",
    "ballDE = np.append(ballDE, balld[5]['X186_DE_time'])\n",
    "ballDE = np.append(ballDE, balld[6]['X187_DE_time'])\n",
    "ballDE = np.append(ballDE, balld[7]['X188_DE_time'])\n",
    "ballDE = np.append(ballDE, balld[8]['X222_DE_time'])\n",
    "ballDE = np.append(ballDE, balld[9]['X223_DE_time'])\n",
    "ballDE = np.append(ballDE, balld[10]['X224_DE_time'])\n",
    "ballDE = np.append(ballDE, balld[11]['X225_DE_time'])\n",
    "\n",
    "oraceDE = np.array(oraced[0]['X130_DE_time'])\n",
    "oraceDE = np.append(oraceDE, oraced[1]['X131_DE_time'])\n",
    "oraceDE = np.append(oraceDE, oraced[2]['X132_DE_time'])\n",
    "#oraceDE = np.append(oraceDE, oraced[3]['X133_DE_time'])\n",
    "#oraceDE = np.append(oraceDE, oraced[4]['X144_DE_time'])\n",
    "oraceDE = np.append(oraceDE, oraced[5]['X145_DE_time'])\n",
    "#oraceDE = np.append(oraceDE, oraced[6]['X146_DE_time'])\n",
    "#oraceDE = np.append(oraceDE, oraced[7]['X147_DE_time'])\n",
    "oraceDE = np.append(oraceDE, oraced[8]['X156_DE_time'])\n",
    "#oraceDE = np.append(oraceDE, oraced[9]['X158_DE_time'])\n",
    "#oraceDE = np.append(oraceDE, oraced[10]['X159_DE_time'])\n",
    "oraceDE = np.append(oraceDE, oraced[11]['X160_DE_time'])\n",
    "#oraceDE = np.append(oraceDE, oraced[12]['X197_DE_time'])\n",
    "#oraceDE = np.append(oraceDE, oraced[13]['X198_DE_time'])\n",
    "oraceDE = np.append(oraceDE, oraced[14]['X199_DE_time'])\n",
    "#oraceDE = np.append(oraceDE, oraced[15]['X200_DE_time'])\n",
    "#oraceDE = np.append(oraceDE, oraced[16]['X234_DE_time'])\n",
    "oraceDE = np.append(oraceDE, oraced[17]['X235_DE_time'])\n",
    "#oraceDE = np.append(oraceDE, oraced[18]['X236_DE_time'])\n",
    "oraceDE = np.append(oraceDE, oraced[19]['X237_DE_time'])\n",
    "oraceDE = np.append(oraceDE, oraced[20]['X246_DE_time'])\n",
    "#oraceDE = np.append(oraceDE, oraced[21]['X247_DE_time'])\n",
    "#oraceDE = np.append(oraceDE, oraced[22]['X248_DE_time'])\n",
    "oraceDE = np.append(oraceDE, oraced[23]['X249_DE_time'])\n",
    "#oraceDE = np.append(oraceDE, oraced[24]['X258_DE_time'])\n",
    "#oraceDE = np.append(oraceDE, oraced[25]['X259_DE_time'])\n",
    "oraceDE = np.append(oraceDE, oraced[26]['X260_DE_time'])\n",
    "#oraceDE = np.append(oraceDE, oraced[27]['X261_DE_time']\n",
    "\n",
    "iraceDE = np.array(iraced[0]['X105_DE_time'])\n",
    "iraceDE = np.append(iraceDE, iraced[1]['X106_DE_time'])\n",
    "iraceDE = np.append(iraceDE, iraced[2]['X107_DE_time'])\n",
    "iraceDE = np.append(iraceDE, iraced[3]['X108_DE_time'])\n",
    "iraceDE = np.append(iraceDE, iraced[4]['X169_DE_time'])\n",
    "iraceDE = np.append(iraceDE, iraced[5]['X170_DE_time'])\n",
    "iraceDE = np.append(iraceDE, iraced[6]['X171_DE_time'])\n",
    "iraceDE = np.append(iraceDE, iraced[7]['X172_DE_time'])\n",
    "iraceDE = np.append(iraceDE, iraced[8]['X209_DE_time'])\n",
    "iraceDE = np.append(iraceDE, iraced[9]['X210_DE_time'])\n",
    "iraceDE = np.append(iraceDE, iraced[10]['X211_DE_time'])\n",
    "iraceDE = np.append(iraceDE, iraced[11]['X212_DE_time'])\n",
    "\n",
    "\n",
    "# Preparing pd.DataFrame for data labelled 0 (no fault)\n",
    "\n",
    "n_samples = int(np.floor((len(baseDE))/(0.25*8192)))\n",
    "n_samples\n",
    "\n",
    "base_train = np.empty((829,2048), dtype = float)\n",
    "\n",
    "for i in range(n_samples-1):\n",
    "    base_train[i] = baseDE[i*2048:(i+1)*2048]\n",
    "\n",
    "y = np.zeros((1,829),dtype=int)\n",
    "\n",
    "basedf = pd.DataFrame(data=base_train)\n",
    "\n",
    "basedf[2048] = y.squeeze(0)\n",
    "\n",
    "# Preparing pd.DataFrame for data labelled 1 (ball fault)\n",
    "\n",
    "n_samples = int(np.floor((len(ballDE))/(0.25*8192)))\n",
    "n_samples\n",
    "\n",
    "ball_train = np.empty((714,2048), dtype = float)\n",
    "\n",
    "for i in range(n_samples-1):\n",
    "    ball_train[i] = ballDE[i*2048:(i+1)*2048]\n",
    "    \n",
    "y = np.ones((1,714),dtype=int)\n",
    "\n",
    "balldf = pd.DataFrame(data=ball_train)\n",
    "balldf[2048] = y.squeeze(0)\n",
    "\n",
    "# Preparing pd.DataFrame for data labelled 2 (inner race fault)\n",
    "\n",
    "n_samples = int(np.floor((len(iraceDE))/(0.25*8192)))\n",
    "#n_samples = 714\n",
    "\n",
    "irace_train = np.empty((714,2048), dtype = float)\n",
    "\n",
    "for i in range(n_samples-1):\n",
    "    irace_train[i] = iraceDE[i*2048:(i+1)*2048]\n",
    "    \n",
    "y = np.full((1,714), 2, dtype=int)\n",
    "\n",
    "iracedf = pd.DataFrame(data=irace_train)\n",
    "iracedf[2048] = y.squeeze(0)\n",
    "\n",
    "# Preparing pd.DataFrame for data labelled 3 (outer race fault)\n",
    "\n",
    "n_samples = int(np.floor((len(oraceDE))/(0.25*8192)))\n",
    "#n_samples = 714\n",
    "\n",
    "orace_train = np.empty((714,2048), dtype = float)\n",
    "\n",
    "for i in range(n_samples-1):\n",
    "    orace_train[i] = oraceDE[i*2048:(i+1)*2048]\n",
    "    \n",
    "y = np.full((1,714), 3, dtype=int)\n",
    "\n",
    "oracedf = pd.DataFrame(data=orace_train)\n",
    "oracedf[2048] = y.squeeze(0)\n",
    "\n",
    "# Random uniform sampling, 70% train 30% valid/test\n",
    "\n",
    "baseline_input = basedf.sample(frac=0.7, random_state=1)\n",
    "ball_input = balldf.sample(frac=0.7, random_state=1)\n",
    "irace_input = iracedf.sample(frac=0.7, random_state=1)\n",
    "orace_input = oracedf.sample(frac=0.7, random_state=1)\n",
    "\n",
    "baseline_valid = basedf.drop(baseline_input.index)\n",
    "ball_valid = balldf.drop(ball_input.index)\n",
    "irace_valid = iracedf.drop(irace_input.index)\n",
    "orace_valid = oracedf.drop(orace_input.index)\n",
    "\n",
    "concatdf = [baseline_input, ball_input, irace_input, orace_input]\n",
    "concatdf_valid = [baseline_valid, ball_valid, irace_valid, orace_valid]\n",
    "x = pd.concat(concatdf)\n",
    "x_val = pd.concat(concatdf_valid)\n",
    "\n",
    "y = x[2048]\n",
    "y_val = x_val[2048]\n",
    "\n",
    "x.drop(x.columns[len(x.columns)-1], axis=1, inplace=True)\n",
    "x_val.drop(x_val.columns[len(x_val.columns)-1], axis=1, inplace=True)\n",
    "\n",
    "# Data massaging for PyTorch DataLoaders\n",
    "\n",
    "#using float so we don't run into float vs double inconsistencies during training\n",
    "x = torch.from_numpy(np.array(x)).float().cuda()\n",
    "x_val = torch.from_numpy(np.array(x_val)).float().cuda()\n",
    "y = torch.from_numpy(np.array(y)).long().cuda()\n",
    "y_val = torch.from_numpy(np.array(y_val)).long().cuda()\n",
    "\n",
    "train = TensorDataset(x, y)\n",
    "val = TensorDataset(x_val, y_val)"
   ]
  },
  {
   "cell_type": "markdown",
   "metadata": {},
   "source": [
    "## Model"
   ]
  },
  {
   "cell_type": "code",
   "execution_count": 6,
   "metadata": {},
   "outputs": [],
   "source": [
    "class CNN(nn.Module):\n",
    "    def __init__(self, conv_layers, layers):\n",
    "        super().__init__()\n",
    "        self.conv_layers = nn.ModuleList([nn.Conv1d(conv_layers[i], conv_layers[i + 1], kernel_size = 3) \n",
    "                                     for i in range(len(conv_layers) - 1)])\n",
    "        self.layers = nn.ModuleList([nn.Linear(layers[i], layers[i + 1]) for i in range(len(layers) - 1)])\n",
    "        \n",
    "        self.pool = nn.MaxPool1d(2)\n",
    "        self.conv_dropout = nn.Dropout(0.25)\n",
    "        self.l_dropout = nn.Dropout(0.25)\n",
    "        \n",
    "    def forward(self, x):\n",
    "        x = x.view(x.size(0), 1, -1)\n",
    "        \n",
    "        for l in self.conv_layers:\n",
    "            l_x = l(x)\n",
    "            bn = nn.BatchNorm1d(x.size())\n",
    "            x = F.relu(l_x)\n",
    "            #x = self.pool(x)\n",
    "            #x = self.conv_dropout(x)\n",
    "        \n",
    "        x = x.view(x.size(0), -1)\n",
    "        for l in self.layers:\n",
    "            l_x = l(x)\n",
    "            bn = nn.BatchNorm1d(x.size())\n",
    "            x = F.relu(l_x)\n",
    "            #x = self.l_dropout(x)\n",
    "        return F.log_softmax(l_x, dim=-1)"
   ]
  },
  {
   "cell_type": "code",
   "execution_count": 43,
   "metadata": {},
   "outputs": [],
   "source": [
    "m = CNN([1, 3, 10, 3], [6126, 512, 4]).cuda()"
   ]
  },
  {
   "cell_type": "markdown",
   "metadata": {},
   "source": [
    "## PAC-Adaptive sampling"
   ]
  },
  {
   "cell_type": "code",
   "execution_count": 22,
   "metadata": {},
   "outputs": [],
   "source": [
    "def updateSampleWeights(w, idx, tau, alpha, f):\n",
    "    #decaying towards uniform distribution\n",
    "    w = (w - 1/np.size(w))*math.exp(-tau) + 1/np.size(w)\n",
    "    \n",
    "    #calculating actual update\n",
    "    #check whether we are in epoch 1 or higher number of training epochs. wrap-around\n",
    "    if idx >= np.size(w):\n",
    "        w[idx-np.size(w)] = w[idx-np.size(w)] * math.exp(alpha * f)\n",
    "    else:\n",
    "        w[idx] = w[idx] * math.exp(alpha * f)\n",
    "    #normalizing\n",
    "    w = w/np.sum(w)\n",
    "    return w     "
   ]
  },
  {
   "cell_type": "markdown",
   "metadata": {},
   "source": [
    "Decay rule: $$ q_{i} = (q_{i} - \\frac{1}{N})*e^{-\\tau} + \\frac{1}{N} $$"
   ]
  },
  {
   "cell_type": "markdown",
   "metadata": {},
   "source": [
    "## Training loop: Unif-samp SGD"
   ]
  },
  {
   "cell_type": "code",
   "execution_count": 45,
   "metadata": {},
   "outputs": [
    {
     "name": "stdout",
     "output_type": "stream",
     "text": [
      "[0,   100] loss: 1.489 acc: 0.248 kl div: 0.000\n",
      "[0,   200] loss: 1.300 acc: 0.317 kl div: 0.000\n",
      "[0,   300] loss: 1.154 acc: 0.482 kl div: 0.000\n",
      "[0,   400] loss: 1.087 acc: 0.592 kl div: 0.000\n",
      "[0,   500] loss: 0.915 acc: 0.547 kl div: 0.000\n",
      "[0,   600] loss: 0.904 acc: 0.554 kl div: 0.000\n",
      "[0,   700] loss: 0.792 acc: 0.601 kl div: 0.000\n",
      "[0,   800] loss: 0.850 acc: 0.716 kl div: 0.000\n",
      "[0,   900] loss: 0.881 acc: 0.609 kl div: 0.000\n",
      "[0,  1000] loss: 0.653 acc: 0.789 kl div: 0.000\n",
      "[0,  1100] loss: 0.535 acc: 0.862 kl div: 0.000\n",
      "[0,  1200] loss: 0.472 acc: 0.892 kl div: 0.000\n",
      "[0,  1300] loss: 0.439 acc: 0.909 kl div: 0.000\n",
      "[0,  1400] loss: 0.353 acc: 0.920 kl div: 0.000\n",
      "[0,  1500] loss: 0.306 acc: 0.915 kl div: 0.000\n",
      "[0,  1600] loss: 0.212 acc: 0.929 kl div: 0.000\n",
      "[0,  1700] loss: 0.260 acc: 0.921 kl div: 0.000\n",
      "[0,  1800] loss: 0.359 acc: 0.903 kl div: 0.000\n",
      "[0,  1900] loss: 0.254 acc: 0.925 kl div: 0.000\n",
      "[0,  2000] loss: 0.340 acc: 0.921 kl div: 0.000\n",
      "[1,   100] loss: 0.274 acc: 0.929 kl div: 0.000\n",
      "[1,   200] loss: 0.070 acc: 0.938 kl div: 0.000\n",
      "[1,   300] loss: 0.152 acc: 0.946 kl div: 0.000\n",
      "[1,   400] loss: 0.209 acc: 0.942 kl div: 0.000\n",
      "[1,   500] loss: 0.187 acc: 0.937 kl div: 0.000\n",
      "[1,   600] loss: 0.105 acc: 0.944 kl div: 0.000\n",
      "[1,   700] loss: 0.092 acc: 0.932 kl div: 0.000\n",
      "[1,   800] loss: 0.089 acc: 0.940 kl div: 0.000\n",
      "[1,   900] loss: 0.219 acc: 0.930 kl div: 0.000\n",
      "[1,  1000] loss: 0.089 acc: 0.938 kl div: 0.000\n",
      "[1,  1100] loss: 0.026 acc: 0.946 kl div: 0.000\n",
      "[1,  1200] loss: 0.194 acc: 0.940 kl div: 0.000\n",
      "[1,  1300] loss: 0.217 acc: 0.935 kl div: 0.000\n",
      "[1,  1400] loss: 0.228 acc: 0.937 kl div: 0.000\n",
      "[1,  1500] loss: 0.185 acc: 0.922 kl div: 0.000\n",
      "[1,  1600] loss: 0.145 acc: 0.926 kl div: 0.000\n",
      "[1,  1700] loss: 0.078 acc: 0.934 kl div: 0.000\n",
      "[1,  1800] loss: 0.156 acc: 0.935 kl div: 0.000\n",
      "[1,  1900] loss: 0.107 acc: 0.949 kl div: 0.000\n",
      "[1,  2000] loss: 0.178 acc: 0.938 kl div: 0.000\n"
     ]
    },
    {
     "ename": "IndexError",
     "evalue": "index 40 is out of bounds for axis 0 with size 40",
     "output_type": "error",
     "traceback": [
      "\u001b[1;31m---------------------------------------------------------------------------\u001b[0m",
      "\u001b[1;31mIndexError\u001b[0m                                Traceback (most recent call last)",
      "\u001b[1;32m<ipython-input-45-f971cd6d15ec>\u001b[0m in \u001b[0;36m<module>\u001b[1;34m\u001b[0m\n\u001b[0;32m     34\u001b[0m \u001b[1;33m\u001b[0m\u001b[0m\n\u001b[0;32m     35\u001b[0m             \u001b[0mj\u001b[0m \u001b[1;33m=\u001b[0m \u001b[0mint\u001b[0m\u001b[1;33m(\u001b[0m\u001b[0mi\u001b[0m\u001b[1;33m/\u001b[0m\u001b[1;36m100\u001b[0m\u001b[1;33m)\u001b[0m\u001b[1;33m\u001b[0m\u001b[0m\n\u001b[1;32m---> 36\u001b[1;33m             \u001b[0mdata_collunif\u001b[0m\u001b[1;33m[\u001b[0m\u001b[1;34m'loss'\u001b[0m\u001b[1;33m]\u001b[0m\u001b[1;33m[\u001b[0m\u001b[0mj\u001b[0m\u001b[1;33m*\u001b[0m\u001b[1;33m(\u001b[0m\u001b[0mepoch\u001b[0m\u001b[1;33m+\u001b[0m\u001b[1;36m1\u001b[0m\u001b[1;33m)\u001b[0m\u001b[1;33m]\u001b[0m \u001b[1;33m=\u001b[0m \u001b[0mrunning_loss\u001b[0m\u001b[1;33m/\u001b[0m\u001b[1;36m100\u001b[0m\u001b[1;33m\u001b[0m\u001b[0m\n\u001b[0m\u001b[0;32m     37\u001b[0m             \u001b[1;31m#data_collunif['kl'][j*(epoch+1)] = running_kl/100\u001b[0m\u001b[1;33m\u001b[0m\u001b[1;33m\u001b[0m\u001b[0m\n\u001b[0;32m     38\u001b[0m             \u001b[0mdata_collunif\u001b[0m\u001b[1;33m[\u001b[0m\u001b[1;34m'acc'\u001b[0m\u001b[1;33m]\u001b[0m\u001b[1;33m[\u001b[0m\u001b[0mj\u001b[0m\u001b[1;33m*\u001b[0m\u001b[1;33m(\u001b[0m\u001b[0mepoch\u001b[0m\u001b[1;33m+\u001b[0m\u001b[1;36m1\u001b[0m\u001b[1;33m)\u001b[0m\u001b[1;33m]\u001b[0m \u001b[1;33m=\u001b[0m \u001b[0mrunning_acc\u001b[0m\u001b[1;33m/\u001b[0m\u001b[1;36m100\u001b[0m\u001b[1;33m\u001b[0m\u001b[0m\n",
      "\u001b[1;31mIndexError\u001b[0m: index 40 is out of bounds for axis 0 with size 40"
     ]
    }
   ],
   "source": [
    "trainloader = torch.utils.data.DataLoader(train, batch_size=1, shuffle=True, num_workers=0, sampler=None)\n",
    "opt = torch.optim.Adam(m.parameters(), weight_decay= 0, lr=0.001)\n",
    "data_collunif = {'loss':np.zeros(40),'kl':np.zeros(40),'acc':np.zeros(40)}\n",
    "#scheduler = torch.optim.lr_scheduler.StepLR(opt,5,0.95)\n",
    "experiment_collection1 = {}\n",
    "\n",
    "for experiment in range(10):\n",
    "    for epoch in range(2): \n",
    "\n",
    "        running_acc = 0.0\n",
    "        #running_kl = 0.0\n",
    "        running_loss = 0.0\n",
    "        #loop to update the distribution over the examples\n",
    "        for i, data in enumerate(trainloader, 0):        \n",
    "\n",
    "            inputs, labels = data\n",
    "            #inputs, labels = inputs.to(device), labels.to(device)\n",
    "\n",
    "            opt.zero_grad()\n",
    "\n",
    "            outputs = m(inputs)\n",
    "            loss = F.nll_loss(outputs, labels) \n",
    "            loss.backward()\n",
    "            opt.step()\n",
    "            #scheduler.step()\n",
    "\n",
    "            #_, predicted = outputs.max(1)\n",
    "\n",
    "            running_loss += loss.item()\n",
    "            #running_kl += scipy.stats.entropy(w,w_unif)\n",
    "            running_acc += pred_accuracy(m, x_val, y_val, x_val.size(0))\n",
    "\n",
    "            if (i % 100 == 0) and (i != 0):   \n",
    "                print('[%d, %5d] loss: %.3f acc: %.3f kl div: %.3f' %\n",
    "                      (epoch, i , running_loss / 100, running_acc / 100, running_kl / 100))\n",
    "\n",
    "                j = int(i/100)\n",
    "                data_collunif['loss'][j+2048*epoch] = running_loss/100\n",
    "                #data_collunif['kl'][j+2048*epoch] = running_kl/100\n",
    "                data_collunif['acc'][j+2048*epoch] = running_acc/100\n",
    "                running_acc = 0.0\n",
    "                #running_kl = 0.0\n",
    "                running_loss = 0.0\n",
    "    experiment_collection1[experiment] = data_collunif\n",
    "    pickle_to_file(experiment_collection1, 'experimentsUNIF.pickle')"
   ]
  },
  {
   "cell_type": "code",
   "execution_count": 282,
   "metadata": {},
   "outputs": [
    {
     "data": {
      "text/plain": [
       "[<matplotlib.lines.Line2D at 0x2b3e62bbc18>]"
      ]
     },
     "execution_count": 282,
     "metadata": {},
     "output_type": "execute_result"
    },
    {
     "data": {
      "image/png": "[encoded data removed]",
      "text/plain": [
       "<Figure size 1440x1440 with 1 Axes>"
      ]
     },
     "metadata": {},
     "output_type": "display_data"
    }
   ],
   "source": [
    "fig = plt.figure(figsize=(20,20), facecolor = 'white')\n",
    "fig.add_subplot(2,1,1)\n",
    "plt.plot(data_collunif['loss'][1:40], color='orange')\n",
    "plt.plot(data_collunif['acc'][1:40], color='green')"
   ]
  },
  {
   "cell_type": "markdown",
   "metadata": {},
   "source": [
    "## Training loop: AdaSamp SGD (0-1 utility)"
   ]
  },
  {
   "cell_type": "markdown",
   "metadata": {},
   "source": [
    "### How many training examples?"
   ]
  },
  {
   "cell_type": "code",
   "execution_count": 150,
   "metadata": {},
   "outputs": [
    {
     "data": {
      "text/plain": [
       "torch.Size([2080, 2048])"
      ]
     },
     "execution_count": 150,
     "metadata": {},
     "output_type": "execute_result"
    }
   ],
   "source": [
    "x.shape"
   ]
  },
  {
   "cell_type": "markdown",
   "metadata": {},
   "source": [
    "2080 time-series of 2048 points"
   ]
  },
  {
   "cell_type": "code",
   "execution_count": 261,
   "metadata": {},
   "outputs": [],
   "source": [
    "opt = torch.optim.Adam(m.parameters(), weight_decay= 0, lr=0.001)\n",
    "#scheduler = torch.optim.lr_scheduler.StepLR(opt,5,0.5)"
   ]
  },
  {
   "cell_type": "code",
   "execution_count": 262,
   "metadata": {},
   "outputs": [],
   "source": [
    "w = np.full((2048), 1/2048)\n",
    "w_unif = np.full((2048), 1/2048)\n",
    "samp = torch.utils.data.WeightedRandomSampler(torch.Tensor(w).cuda(), 4000)\n",
    "trainloader = torch.utils.data.DataLoader(train, batch_size=1, shuffle=False, num_workers=0, sampler=samp)"
   ]
  },
  {
   "cell_type": "code",
   "execution_count": 263,
   "metadata": {},
   "outputs": [
    {
     "name": "stdout",
     "output_type": "stream",
     "text": [
      "[0,   100] loss: 1.538 acc: 0.264 kl div: 1.538\n",
      "[0,   200] loss: 1.348 acc: 0.337 kl div: 1.348\n",
      "[0,   300] loss: 1.134 acc: 0.530 kl div: 1.134\n",
      "[0,   400] loss: 0.916 acc: 0.564 kl div: 0.916\n",
      "[0,   500] loss: 0.917 acc: 0.608 kl div: 0.917\n",
      "[0,   600] loss: 0.852 acc: 0.651 kl div: 0.852\n",
      "[0,   700] loss: 0.726 acc: 0.691 kl div: 0.726\n",
      "[0,   800] loss: 0.669 acc: 0.680 kl div: 0.669\n",
      "[0,   900] loss: 0.790 acc: 0.594 kl div: 0.790\n",
      "[0,  1000] loss: 0.629 acc: 0.721 kl div: 0.629\n",
      "[0,  1100] loss: 0.634 acc: 0.725 kl div: 0.634\n",
      "[0,  1200] loss: 0.570 acc: 0.792 kl div: 0.570\n",
      "[0,  1300] loss: 0.513 acc: 0.770 kl div: 0.513\n",
      "[0,  1400] loss: 0.456 acc: 0.812 kl div: 0.456\n",
      "[0,  1500] loss: 0.371 acc: 0.817 kl div: 0.371\n",
      "[0,  1600] loss: 0.404 acc: 0.850 kl div: 0.404\n",
      "[0,  1700] loss: 0.299 acc: 0.851 kl div: 0.299\n",
      "[0,  1800] loss: 0.321 acc: 0.855 kl div: 0.321\n",
      "[0,  1900] loss: 0.359 acc: 0.844 kl div: 0.359\n",
      "[0,  2000] loss: 0.290 acc: 0.888 kl div: 0.290\n",
      "[0,  2100] loss: 0.297 acc: 0.869 kl div: 0.297\n",
      "[0,  2200] loss: 0.246 acc: 0.885 kl div: 0.246\n",
      "[0,  2300] loss: 0.431 acc: 0.879 kl div: 0.431\n",
      "[0,  2400] loss: 0.212 acc: 0.909 kl div: 0.212\n",
      "[0,  2500] loss: 0.267 acc: 0.907 kl div: 0.267\n",
      "[0,  2600] loss: 0.196 acc: 0.923 kl div: 0.196\n",
      "[0,  2700] loss: 0.131 acc: 0.904 kl div: 0.131\n",
      "[0,  2800] loss: 0.254 acc: 0.928 kl div: 0.254\n",
      "[0,  2900] loss: 0.124 acc: 0.917 kl div: 0.124\n",
      "[0,  3000] loss: 0.155 acc: 0.928 kl div: 0.155\n",
      "[0,  3100] loss: 0.089 acc: 0.932 kl div: 0.089\n",
      "[0,  3200] loss: 0.151 acc: 0.908 kl div: 0.151\n",
      "[0,  3300] loss: 0.039 acc: 0.931 kl div: 0.039\n",
      "[0,  3400] loss: 0.160 acc: 0.922 kl div: 0.160\n",
      "[0,  3500] loss: 0.219 acc: 0.931 kl div: 0.219\n",
      "[0,  3600] loss: 0.141 acc: 0.925 kl div: 0.141\n",
      "[0,  3700] loss: 0.135 acc: 0.930 kl div: 0.135\n",
      "[0,  3800] loss: 0.169 acc: 0.929 kl div: 0.169\n",
      "[0,  3900] loss: 0.169 acc: 0.939 kl div: 0.169\n"
     ]
    }
   ],
   "source": [
    "tau = 0.25\n",
    "alpha = 0.25\n",
    "data_coll = {'loss':np.zeros(40),'kl':np.zeros(40),'acc':np.zeros(40)}\n",
    "experiment_collection1 = {}\n",
    "\n",
    "for experiment in range(10):\n",
    "    for epoch in range(1): \n",
    "\n",
    "        running_loss = 0.0\n",
    "        running_kl = 0.0\n",
    "        running_acc = 0.0\n",
    "        for i, data in enumerate(trainloader, 0):\n",
    "\n",
    "            inputs, labels = data\n",
    "            #inputs, labels = inputs.to(device), labels.to(device)\n",
    "            #scheduler.step()\n",
    "            opt.zero_grad()\n",
    "\n",
    "            outputs = m(inputs)\n",
    "            loss = F.nll_loss(outputs, labels) \n",
    "            loss.backward()\n",
    "            opt.step()\n",
    "\n",
    "            _ , predicted = torch.max(outputs,1)\n",
    "\n",
    "            #0-1 utility pred\n",
    "            if predicted == labels:\n",
    "                f = 0\n",
    "            else: \n",
    "                f = 1\n",
    "\n",
    "            running_loss += loss.item()\n",
    "            running_kl += scipy.stats.entropy(w,w_unif)\n",
    "            running_acc += pred_accuracy(m, x_val, y_val, x_val.size(0))\n",
    "\n",
    "            if (i % 100 == 0) and (i != 0):   \n",
    "                print('[%d, %5d] loss: %.3f acc: %.3f kl div: %.3f' %\n",
    "                      (epoch, i , running_loss / 100, running_acc / 100, running_kl / 100))\n",
    "\n",
    "                j = int(i/100)\n",
    "                data_coll['loss'][j] = running_loss/100\n",
    "                data_coll['kl'][j] = running_kl/100\n",
    "                data_coll['acc'][j] = running_acc/100\n",
    "                running_acc = 0.0\n",
    "                running_kl = 0.0\n",
    "                running_loss = 0.0\n",
    "\n",
    "\n",
    "            #PAC adaptive sampling\n",
    "            w = updateSampleWeights(w, i, tau, alpha, f)\n",
    "            #update dataloader sampler\n",
    "            samp.weights = torch.Tensor(w).cuda()\n",
    "    experiment_collection2[experiment] = data_coll\n",
    "    pickle_to_file(experiment_collection2, 'AdaSGD.pickle')"
   ]
  },
  {
   "cell_type": "code",
   "execution_count": 273,
   "metadata": {},
   "outputs": [
    {
     "data": {
      "text/plain": [
       "[<matplotlib.lines.Line2D at 0x2b3e26e61d0>]"
      ]
     },
     "execution_count": 273,
     "metadata": {},
     "output_type": "execute_result"
    },
    {
     "data": {
      "image/png": "[encoded data removed]",
      "text/plain": [
       "<Figure size 432x288 with 1 Axes>"
      ]
     },
     "metadata": {
      "needs_background": "light"
     },
     "output_type": "display_data"
    }
   ],
   "source": [
    "plt.plot(data_coll['loss'][1:40], color='orange')"
   ]
  },
  {
   "cell_type": "code",
   "execution_count": 274,
   "metadata": {},
   "outputs": [
    {
     "data": {
      "text/plain": [
       "[<matplotlib.lines.Line2D at 0x2b3e274dcf8>]"
      ]
     },
     "execution_count": 274,
     "metadata": {},
     "output_type": "execute_result"
    },
    {
     "data": {
      "image/png": "[encoded data removed]",
      "text/plain": [
       "<Figure size 432x288 with 1 Axes>"
      ]
     },
     "metadata": {
      "needs_background": "light"
     },
     "output_type": "display_data"
    }
   ],
   "source": [
    "plt.plot(data_coll['acc'][1:40], color='green')"
   ]
  },
  {
   "cell_type": "code",
   "execution_count": 276,
   "metadata": {},
   "outputs": [
    {
     "data": {
      "text/plain": [
       "[<matplotlib.lines.Line2D at 0x2b3e5bbcfd0>]"
      ]
     },
     "execution_count": 276,
     "metadata": {},
     "output_type": "execute_result"
    },
    {
     "data": {
      "image/png": "[encoded data removed]",
      "text/plain": [
       "<Figure size 432x288 with 1 Axes>"
      ]
     },
     "metadata": {
      "needs_background": "light"
     },
     "output_type": "display_data"
    }
   ],
   "source": [
    "plt.plot(data_coll['kl'][1:40], color='purple')"
   ]
  },
  {
   "cell_type": "code",
   "execution_count": 256,
   "metadata": {},
   "outputs": [],
   "source": [
    "m = CNN([1, 3, 10, 3], [6126, 512, 4]).cuda()"
   ]
  },
  {
   "cell_type": "markdown",
   "metadata": {},
   "source": [
    "## Training loop: AdaSamp SGD (L1 utility)"
   ]
  },
  {
   "cell_type": "code",
   "execution_count": 306,
   "metadata": {},
   "outputs": [],
   "source": [
    "cuda.empty_cache()"
   ]
  },
  {
   "cell_type": "code",
   "execution_count": 39,
   "metadata": {},
   "outputs": [],
   "source": [
    "opt = torch.optim.Adam(m.parameters(), weight_decay= 0, lr=0.001)\n",
    "#scheduler = torch.optim.lr_scheduler.StepLR(opt,5,0.5)\n",
    "w = np.full((2048), 1/2048)\n",
    "w_unif = np.full((2048), 1/2048)\n",
    "samp = torch.utils.data.WeightedRandomSampler(torch.Tensor(w).cuda(), 4000)\n",
    "trainloader = torch.utils.data.DataLoader(train, batch_size=1, shuffle=False, num_workers=0, sampler=samp)"
   ]
  },
  {
   "cell_type": "code",
   "execution_count": 40,
   "metadata": {},
   "outputs": [
    {
     "name": "stdout",
     "output_type": "stream",
     "text": [
      "[0,   100] loss: 1.142 acc: 0.523 kl div: 0.000\n",
      "[0,   200] loss: 0.931 acc: 0.559 kl div: 0.000\n",
      "[0,   300] loss: 0.868 acc: 0.575 kl div: 0.000\n",
      "[0,   400] loss: 0.799 acc: 0.652 kl div: 0.000\n",
      "[0,   500] loss: 0.748 acc: 0.652 kl div: 0.000\n",
      "[0,   600] loss: 0.658 acc: 0.677 kl div: 0.000\n",
      "[0,   700] loss: 0.608 acc: 0.683 kl div: 0.000\n",
      "[0,   800] loss: 0.614 acc: 0.730 kl div: 0.000\n",
      "[0,   900] loss: 0.542 acc: 0.745 kl div: 0.000\n",
      "[0,  1000] loss: 0.412 acc: 0.777 kl div: 0.000\n",
      "[0,  1100] loss: 0.504 acc: 0.750 kl div: 0.000\n",
      "[0,  1200] loss: 0.578 acc: 0.770 kl div: 0.000\n",
      "[0,  1300] loss: 0.434 acc: 0.840 kl div: 0.000\n",
      "[0,  1400] loss: 0.289 acc: 0.848 kl div: 0.000\n",
      "[0,  1500] loss: 0.377 acc: 0.846 kl div: 0.000\n",
      "[0,  1600] loss: 0.263 acc: 0.859 kl div: 0.000\n",
      "[0,  1700] loss: 0.313 acc: 0.881 kl div: 0.000\n",
      "[0,  1800] loss: 0.376 acc: 0.884 kl div: 0.000\n",
      "[0,  1900] loss: 0.242 acc: 0.892 kl div: 0.000\n",
      "[0,  2000] loss: 0.262 acc: 0.898 kl div: 0.000\n",
      "[0,  2100] loss: 0.274 acc: 0.898 kl div: 0.000\n",
      "[0,  2200] loss: 0.227 acc: 0.916 kl div: 0.000\n",
      "[0,  2300] loss: 0.259 acc: 0.917 kl div: 0.000\n",
      "[0,  2400] loss: 0.173 acc: 0.898 kl div: 0.000\n",
      "[0,  2500] loss: 0.145 acc: 0.896 kl div: 0.000\n",
      "[0,  2600] loss: 0.227 acc: 0.903 kl div: 0.000\n",
      "[0,  2700] loss: 0.145 acc: 0.905 kl div: 0.000\n",
      "[0,  2800] loss: 0.080 acc: 0.893 kl div: 0.000\n",
      "[0,  2900] loss: 0.149 acc: 0.889 kl div: 0.000\n",
      "[0,  3000] loss: 0.219 acc: 0.908 kl div: 0.000\n",
      "[0,  3100] loss: 0.137 acc: 0.910 kl div: 0.000\n",
      "[0,  3200] loss: 0.189 acc: 0.874 kl div: 0.000\n",
      "[0,  3300] loss: 0.177 acc: 0.885 kl div: 0.000\n",
      "[0,  3400] loss: 0.208 acc: 0.921 kl div: 0.000\n",
      "[0,  3500] loss: 0.199 acc: 0.926 kl div: 0.000\n",
      "[0,  3600] loss: 0.124 acc: 0.928 kl div: 0.000\n",
      "[0,  3700] loss: 0.148 acc: 0.928 kl div: 0.000\n",
      "[0,  3800] loss: 0.079 acc: 0.920 kl div: 0.000\n",
      "[0,  3900] loss: 0.075 acc: 0.921 kl div: 0.000\n"
     ]
    }
   ],
   "source": [
    "tau = 0.25\n",
    "alpha = 0.25\n",
    "data_collL1 = {'loss':np.zeros(40),'kl':np.zeros(40),'acc':np.zeros(40)}\n",
    "\n",
    "for epoch in range(1): \n",
    "       \n",
    "    running_loss = 0.0\n",
    "    running_kl = 0.0\n",
    "    running_acc = 0.0\n",
    "    for i, data in enumerate(trainloader, 0):\n",
    "                \n",
    "        inputs, labels = data\n",
    "        #inputs, labels = inputs.to(device), labels.to(device)\n",
    "        #scheduler.step()\n",
    "        opt.zero_grad()\n",
    "\n",
    "        outputs = m(inputs)\n",
    "        loss = F.nll_loss(outputs, labels) \n",
    "        loss.backward()\n",
    "        opt.step()\n",
    "        \n",
    "        _ , predicted = torch.max(outputs,1)\n",
    "        \n",
    "        #L1 utility \n",
    "        if predicted == labels:\n",
    "            f = 0\n",
    "        else: \n",
    "            f = labels.float() - torch.exp(outputs[:,labels])\n",
    "        \n",
    "        running_loss += loss.item()\n",
    "        running_kl += scipy.stats.entropy(w,w_unif)\n",
    "        running_acc += pred_accuracy(m, x_val, y_val, x_val.size(0))\n",
    "\n",
    "        if (i % 100 == 0) and (i != 0):   \n",
    "            print('[%d, %5d] loss: %.3f acc: %.3f kl div: %.3f' %\n",
    "                  (epoch, i , running_loss / 100, running_acc / 100, running_kl / 100))\n",
    "            \n",
    "            j = int(i/100)\n",
    "            data_collL1['loss'][j] = running_loss/100\n",
    "            data_collL1['kl'][j] = running_kl/100\n",
    "            data_collL1['acc'][j] = running_acc/100\n",
    "            running_acc = 0.0\n",
    "            running_kl = 0.0\n",
    "            running_loss = 0.0\n",
    "        \n",
    "        \n",
    "        #PAC adaptive sampling\n",
    "        w = updateSampleWeights(w, i, tau, alpha, f)\n",
    "        #update dataloader sampler\n",
    "        samp.weights = torch.Tensor(w).cuda()   "
   ]
  },
  {
   "cell_type": "code",
   "execution_count": 304,
   "metadata": {},
   "outputs": [],
   "source": [
    "m = CNN([1, 3, 10, 3], [6126, 512, 4]).cuda()"
   ]
  },
  {
   "cell_type": "code",
   "execution_count": 42,
   "metadata": {},
   "outputs": [
    {
     "data": {
      "text/plain": [
       "[<matplotlib.lines.Line2D at 0x2c00dec1c18>]"
      ]
     },
     "execution_count": 42,
     "metadata": {},
     "output_type": "execute_result"
    },
    {
     "data": {
      "image/png": "[encoded data removed]",
      "text/plain": [
       "<Figure size 1440x1440 with 1 Axes>"
      ]
     },
     "metadata": {},
     "output_type": "display_data"
    }
   ],
   "source": [
    "fig = plt.figure(figsize=(20,20), facecolor = 'white')\n",
    "fig.add_subplot(2,1,1)\n",
    "plt.plot(data_collL1['loss'][1:40], color='orange')\n",
    "plt.plot(data_collL1['acc'][1:40], color='green')"
   ]
  },
  {
   "cell_type": "markdown",
   "metadata": {},
   "source": [
    "## Plot comparisons"
   ]
  },
  {
   "cell_type": "code",
   "execution_count": null,
   "metadata": {},
   "outputs": [],
   "source": [
    "fig = plt.figure(figsize=(20,20), facecolor = 'white')\n",
    "fig.add_subplot(3,1,1)\n",
    "plt.plot(data_coll['loss'][1:40], color='orange')\n",
    "plt.plot(data_colluniform['loss'][1:40], color='green')"
   ]
  },
  {
   "cell_type": "code",
   "execution_count": 72,
   "metadata": {},
   "outputs": [],
   "source": [
    "def pickle_to_file(data, filename, PATH = 'L:/vibnet-hankooktire/'):\n",
    "    with open(filename, 'wb') as handle:\n",
    "        pickle.dump(data, handle)\n",
    "def file_to_pickle(filename, PATH = 'L:/vibnet-hankooktire/'):\n",
    "    with open(filename, 'rb') as handle:\n",
    "        return pickle.load(handle)               "
   ]
  },
  {
   "cell_type": "code",
   "execution_count": 62,
   "metadata": {},
   "outputs": [],
   "source": [
    "pickle_to_file(data_collunif, 'unifSGD.pickle')\n",
    "#pickle_to_file(data_coll, 'AdaSGD01.pickle')\n",
    "pickle_to_file(data_collL1, 'AdaSGDL1.pickle')"
   ]
  },
  {
   "cell_type": "code",
   "execution_count": 70,
   "metadata": {},
   "outputs": [],
   "source": [
    "with open('unifSGD.pickle', 'rb') as handle:\n",
    "    x = pickle.load(handle)"
   ]
  },
  {
   "cell_type": "code",
   "execution_count": 69,
   "metadata": {},
   "outputs": [
    {
     "data": {
      "text/plain": [
       "[<matplotlib.lines.Line2D at 0x2c05d1e7198>]"
      ]
     },
     "execution_count": 69,
     "metadata": {},
     "output_type": "execute_result"
    },
    {
     "data": {
      "image/png": "[encoded data removed]",
      "text/plain": [
       "<Figure size 432x288 with 1 Axes>"
      ]
     },
     "metadata": {
      "needs_background": "light"
     },
     "output_type": "display_data"
    }
   ],
   "source": [
    "plt.plot(x['acc'])"
   ]
  },
  {
   "cell_type": "code",
   "execution_count": 71,
   "metadata": {},
   "outputs": [
    {
     "data": {
      "text/plain": [
       "[<matplotlib.lines.Line2D at 0x2c0676700b8>]"
      ]
     },
     "execution_count": 71,
     "metadata": {},
     "output_type": "execute_result"
    },
    {
     "data": {
      "image/png": "[encoded data removed]",
      "text/plain": [
       "<Figure size 432x288 with 1 Axes>"
      ]
     },
     "metadata": {
      "needs_background": "light"
     },
     "output_type": "display_data"
    }
   ],
   "source": [
    "plt.plot(data_collunif['loss'])"
   ]
  },
  {
   "cell_type": "code",
   "execution_count": 73,
   "metadata": {},
   "outputs": [],
   "source": [
    "kappa = {'apple':[1,2],'pippo':[4,5]}"
   ]
  },
  {
   "cell_type": "code",
   "execution_count": 75,
   "metadata": {},
   "outputs": [
    {
     "data": {
      "text/plain": [
       "[1, 2]"
      ]
     },
     "execution_count": 75,
     "metadata": {},
     "output_type": "execute_result"
    }
   ],
   "source": [
    "kappa['apple']"
   ]
  },
  {
   "cell_type": "code",
   "execution_count": 84,
   "metadata": {},
   "outputs": [],
   "source": [
    "experiment_collection[0] = kappa"
   ]
  },
  {
   "cell_type": "code",
   "execution_count": 83,
   "metadata": {},
   "outputs": [],
   "source": [
    "experiment_collection = {}"
   ]
  },
  {
   "cell_type": "code",
   "execution_count": 85,
   "metadata": {},
   "outputs": [
    {
     "data": {
      "text/plain": [
       "{0: {'apple': [1, 2], 'pippo': [4, 5]}}"
      ]
     },
     "execution_count": 85,
     "metadata": {},
     "output_type": "execute_result"
    }
   ],
   "source": [
    "experiment_collection"
   ]
  },
  {
   "cell_type": "code",
   "execution_count": null,
   "metadata": {},
   "outputs": [],
   "source": []
  }
 ],
 "metadata": {
  "kernelspec": {
   "display_name": "Python 3",
   "language": "python",
   "name": "python3"
  },
  "language_info": {
   "codemirror_mode": {
    "name": "ipython",
    "version": 3
   },
   "file_extension": ".py",
   "mimetype": "text/x-python",
   "name": "python",
   "nbconvert_exporter": "python",
   "pygments_lexer": "ipython3",
   "version": "3.6.6"
  }
 },
 "nbformat": 4,
 "nbformat_minor": 2
}
